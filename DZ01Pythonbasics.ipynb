{
 "cells": [
  {
   "cell_type": "markdown",
   "metadata": {},
   "source": [
    "Задание №1"
   ]
  },
  {
   "cell_type": "code",
   "execution_count": null,
   "metadata": {},
   "outputs": [],
   "source": [
    "phrase_1=input('Введите фразу 1:')\n",
    "phrase_2=input('Введите фразу 2:')\n",
    "a=len(phrase_1)\n",
    "b=len(phrase_2)\n",
    "if a>b:\n",
    "    print('фраза 1 длиннее фразы 2')\n",
    "elif a<b:\n",
    "    print('фраза 2 длиннее фразы 1')\n",
    "else:\n",
    "    print('фразы 2 равны')"
   ]
  },
  {
   "cell_type": "markdown",
   "metadata": {},
   "source": [
    "Задание №2"
   ]
  },
  {
   "cell_type": "code",
   "execution_count": null,
   "metadata": {},
   "outputs": [],
   "source": [
    "year =input('Введите год:')\n",
    "a=float(year)\n",
    "b=int(a)\n",
    "\"\"\"год, номер которого кратен 400, — високосный;\n",
    "остальные годы, номер которых кратен 100, — невисокосные (например, годы 1700, 1800, 1900, 2100, 2200, 2300);\n",
    "остальные годы, номер которых кратен 4, — високосные\"\"\"\n",
    "if (b % 4 == 0) and (b % 100 !=0 ) or (b % 400 ==0):\n",
    "    print('год високосный')\n",
    "    \n",
    "else:\n",
    "    print('год обычный')"
   ]
  },
  {
   "cell_type": "markdown",
   "metadata": {},
   "source": [
    "Задание №3"
   ]
  },
  {
   "cell_type": "code",
   "execution_count": null,
   "metadata": {},
   "outputs": [],
   "source": [
    "date=int(input(\"Введите день рождения:\"))\n",
    "month=input(\"Введите месяц рождения:\")\n",
    "if (date>=22 and date<=31 and month=='декабрь') or( month=='январь' and date>=1 and date<=19):\n",
    "   print(\"Знак зодиака:Козерог\")\n",
    "if (date>=20 and date<=31 and month=='январь') or( month=='февраль' and date>=1 and date<=18):\n",
    "   print(\"Знак зодиака:Водолей\")\n",
    "if (date>=19 and date<=29 and month=='февраль') or( month=='март' and date>=1 and date<=20):\n",
    "   print(\"Знак зодиака:Рыбы\")\n",
    "if (date>=21 and date<=31 and month=='март') or( month=='апрель' and date>=1 and date<=20):\n",
    "   print(\"Знак зодиака:Овен\")\n",
    "if (date>=21 and date<=30 and month=='апрель') or( month=='май' and date>=1 and date<=20):\n",
    "   print(\"Знак зодиака:Телец\")\n",
    "if (date>=21 and date<=31 and month=='май') or( month=='июнь' and date>=1 and date<=20):\n",
    "   print(\"Знак зодиака:Близнецы\")\n",
    "if (date>=21 and date<=30 and month=='июнь') or( month=='июль' and date>=1 and date<=22):\n",
    "   print(\"Знак зодиака:Рак\")\n",
    "if (date>=23 and date<=31 and month=='июль') or( month=='август' and date>=1 and date<=22):\n",
    "   print(\"Знак зодиака:Лев\")\n",
    "if (date>=23 and date<=31 and month=='август') or( month=='сентябрь' and date>=1 and date<=23):\n",
    "   print(\"Знак зодиака:Дева\")\n",
    "if (date>=24 and date<=30 and month=='сентябрь') or( month=='октябрь' and date>=1 and date<=23):\n",
    "   print(\"Знак зодиака:Весы\")\n",
    "if (date>=24 and date<=31 and month=='октябрь') or( month=='ноябрь' and date>=1 and date<=21):\n",
    "   print(\"Знак зодиака:Скорпион\")\n",
    "if (date>=22 and date<=30 and month=='ноябрь') or( month=='декабрь' and date>=1 and date<=21):\n",
    "   print(\"Знак зодиака:Стрелец\")"
   ]
  },
  {
   "cell_type": "markdown",
   "metadata": {},
   "source": [
    "Задание №4"
   ]
  },
  {
   "cell_type": "code",
   "execution_count": null,
   "metadata": {},
   "outputs": [],
   "source": [
    "a=int(input(\"Введите ширину товара, в сантиметрах:\"))\n",
    "l=int(input(\"Введите длину товара, в сантиметрах:\"))\n",
    "h=int(input(\"Введите высоту товара, в сантиметрах:\"))\n",
    "if a<=15 and l<=15 and h<=15:\n",
    "    print(\"Коробка №1\")\n",
    "elif h>=200:\n",
    "    print(\"Упаковка для лыж\")\n",
    "elif 15<a<50 or 15<l<50 or 15<h<50 and h<200 and h!=200:\n",
    "    print(\"Коробка №2\")\n",
    "else:\n",
    "    print(\"Стандартная коробка №3\")    "
   ]
  },
  {
   "cell_type": "markdown",
   "metadata": {},
   "source": [
    "Задание №5"
   ]
  },
  {
   "cell_type": "code",
   "execution_count": null,
   "metadata": {},
   "outputs": [],
   "source": [
    "k=input(\"Введите шестизначный номер билета:\")\n",
    "while len(k)!=6 or len(k)<6 or len(k)>6:\n",
    "    print ('Ошибка. Билет не шестизначный')\n",
    "    k=input(\"Введите шестизначный номер билета:\")\n",
    "p=int(k)\n",
    "c=int(p/100000)\n",
    "d=p%100000\n",
    "h=int(d/10000)\n",
    "v=d%10000\n",
    "n=int(v/1000)\n",
    "j=v%1000\n",
    "u=int(j/100)\n",
    "y=j%100\n",
    "t=int(y/10)\n",
    "g=y%10\n",
    "if (c+h+n)==(u+t+g):\n",
    "    print ('Счастливый билет')\n",
    "else:\n",
    "    print('Несчастливый билет')"
   ]
  },
  {
   "cell_type": "markdown",
   "metadata": {},
   "source": [
    "Задание №6"
   ]
  },
  {
   "cell_type": "code",
   "execution_count": null,
   "metadata": {},
   "outputs": [],
   "source": [
    "tipf=input(\"Введите тип фигуры: 1. круг 2. треугольник 3. прямоугольник :\")\n",
    "if tipf==('круг'):\n",
    "    r=float(input(\"Введите радиус фигуры R,мм:\"))\n",
    "    skrug=(3.14*r*r)\n",
    "    print(\"Площадь круга - \", skrug)\n",
    "elif tipf==('прямоугольник'):\n",
    "    a=int(input(\"Введите длину стороны A,мм:\"))\n",
    "    b=int(input(\"Введите длину стороны B,мм:\"))\n",
    "    spr=(a*b)\n",
    "    print(\"Площадь прямоугольника - \", spr)\n",
    "elif tipf==('треугольник'):\n",
    "    l=float(input(\"Введите длину стороны A,мм:\"))\n",
    "    f=float(input(\"Введите длину стороны B,мм:\"))\n",
    "    c=float(input(\"Введите длину стороны C,мм:\"))\n",
    "    ptr=(l+f+c)/2\n",
    "    stpr=(ptr*(ptr-l)*(ptr-f)*(ptr-c))**0.5\n",
    "    print(\"Площадь прямоугольника - \", stpr)\n",
    "else:\n",
    "    print('Вы ввели не ту фигуру))')\n",
    "    "
   ]
  }
 ],
 "metadata": {
  "kernelspec": {
   "display_name": "Python 3",
   "language": "python",
   "name": "python3"
  },
  "language_info": {
   "codemirror_mode": {
    "name": "ipython",
    "version": 3
   },
   "file_extension": ".py",
   "mimetype": "text/x-python",
   "name": "python",
   "nbconvert_exporter": "python",
   "pygments_lexer": "ipython3",
   "version": "3.8.3"
  }
 },
 "nbformat": 4,
 "nbformat_minor": 4
}
